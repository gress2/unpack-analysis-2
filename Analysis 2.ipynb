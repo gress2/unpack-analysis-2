{
 "cells": [
  {
   "cell_type": "markdown",
   "metadata": {},
   "source": [
    "### Getting set up\n",
    "\n",
    "First, we must load the dataframe."
   ]
  },
  {
   "cell_type": "code",
   "execution_count": 1,
   "metadata": {
    "collapsed": false
   },
   "outputs": [],
   "source": [
    "%matplotlib inline\n",
    "import pandas as pd\n",
    "df = pd.read_pickle('unpack_benchmark.dataframe')"
   ]
  },
  {
   "cell_type": "markdown",
   "metadata": {},
   "source": [
    "We first seek to evaluate linearity (in the number of iterations). We can evaluate this for a given parameter configuration in the following way. First, we define a filtering dictionary used to constrain the dataframe."
   ]
  },
  {
   "cell_type": "code",
   "execution_count": 2,
   "metadata": {
    "collapsed": true
   },
   "outputs": [],
   "source": [
    "filter_dict = {\n",
    "    'access_pattern': 'independent',\n",
    "    'complexity': 'complex',\n",
    "    'column': 'nocolumn',\n",
    "    'type': 'std::tuple<double, double, double, double>',\n",
    "    'orientation': 'soa',\n",
    "    'container_size': 1048576\n",
    "}"
   ]
  },
  {
   "cell_type": "markdown",
   "metadata": {},
   "source": [
    "Before we actually filter the dataset, we can take a look at the type of data which will be returned."
   ]
  },
  {
   "cell_type": "code",
   "execution_count": 3,
   "metadata": {
    "collapsed": false
   },
   "outputs": [
    {
     "name": "stdout",
     "output_type": "stream",
     "text": [
      "Querying with this filter will yield data with these dimensions unspecified:\n",
      "\n",
      "{ 'benchmarking_tool': array(['chrono_benchmark'], dtype=object),\n",
      "  'compiler': array(['g++-7.1'], dtype=object),\n",
      "  'container': array(['vector'], dtype=object),\n",
      "  'iterations': array([  32768,      32,       1, 1048576,    1024]),\n",
      "  'optimization': array(['O3'], dtype=object),\n",
      "  'run_id': array(['1'], dtype=object),\n",
      "  'system_memory': array(['64GB'], dtype=object),\n",
      "  'system_os': array(['Red Hat Enterprise Linux Server 6.9 (Santiago)'], dtype=object),\n",
      "  'system_processor': array(['Intel(R) Xeon(R) CPU E5-2680 @ 2.70GHz'], dtype=object)}\n"
     ]
    }
   ],
   "source": [
    "import df_plot\n",
    "import pprint\n",
    "pp = pprint.PrettyPrinter(indent=2)\n",
    "unique = df_plot.unique_set(df)\n",
    "pp.pprint(df_plot.get_selection_type(unique, filter_dict))"
   ]
  },
  {
   "cell_type": "markdown",
   "metadata": {},
   "source": [
    "### Testing for linearity through iterations (single case)\n",
    "\n",
    "We can see in this case the only dimension with size of more than 1 is iterations. This is exctly what we want for assessing linearity (or lack thereof) through this dimension. Let's go ahead and filter our dataframe and determine a best fit line for the data."
   ]
  },
  {
   "cell_type": "code",
   "execution_count": 4,
   "metadata": {
    "collapsed": false
   },
   "outputs": [
    {
     "name": "stdout",
     "output_type": "stream",
     "text": [
      "x: [1, 32, 1024, 32768]\n",
      "y: [0.09778025, 2.4766686, 73.359947, 2497.6101]\n",
      "R2 score: 0.99999670\n",
      "An R2 of 1 is a perfect fit. Range: (-infty, 1]\n",
      "[ -1.44992140e+00   9.14280422e-01   7.65687388e+01   2.49751141e+03]\n"
     ]
    },
    {
     "data": {
      "image/png": "[encoded data removed]",
      "text/plain": [
       "<matplotlib.figure.Figure at 0x10f5f6eb8>"
      ]
     },
     "metadata": {},
     "output_type": "display_data"
    },
    {
     "data": {
      "text/plain": [
       "0.99999669929374169"
      ]
     },
     "execution_count": 4,
     "metadata": {},
     "output_type": "execute_result"
    }
   ],
   "source": [
    "selection = df_plot.filter_df(filter_dict, df)\n",
    "x, y = df_plot.xy(selection, 'iterations', 'timing', sortx=True)\n",
    "print('x: ' + str(x))\n",
    "print('y: ' + str(y))\n",
    "df_plot.linearity_test(x, y, show_output=True)"
   ]
  },
  {
   "cell_type": "markdown",
   "metadata": {},
   "source": [
    "This shows how linearity testing will work for each configuration. We'll now go through to verify that every configuration displays the same type of linearity.\n",
    "\n",
    "### Testing for linearity through iterations (all configurations)"
   ]
  },
  {
   "cell_type": "code",
   "execution_count": 5,
   "metadata": {
    "collapsed": false
   },
   "outputs": [],
   "source": [
    "# this takes > an hour\n",
    "# df_plot.linearity_test_all(unique, df, test_dimension='iterations') "
   ]
  },
  {
   "cell_type": "markdown",
   "metadata": {},
   "source": [
    "##### What this means...\n",
    "\n",
    "Because all of these parameter configurations are showing an essentially perfect linear fit, we can proceed with analysis using only the highest iteration data points. These high iteration configurations will have the least noise and we won't lose any information from the lower iteration configurations.\n",
    "\n",
    "### Testing for linearity through container size (single configuration)\n",
    "\n",
    "Now that we've established we can look at solely the highest iteration data points, let's take a look at container size and verify we see the same type of linearity there.\n"
   ]
  },
  {
   "cell_type": "code",
   "execution_count": 6,
   "metadata": {
    "collapsed": false
   },
   "outputs": [
    {
     "name": "stdout",
     "output_type": "stream",
     "text": [
      "x: [1, 2, 4, 8, 16, 32, 64, 128, 256, 512, 1024, 2048, 4096, 8192, 16384, 32768]\n",
      "y: [0.07234747, 0.14149547, 0.27709749, 0.56644583, 1.1007181, 2.1939662, 4.4165416, 8.7795639, 17.571589, 35.182793, 70.267639, 141.51245, 283.14798, 569.94684, 1183.4451, 2449.3101]\n",
      "R2 score: 0.99956011\n",
      "An R2 of 1 is a perfect fit. Range: (-infty, 1]\n",
      "[ -5.92746475e+00  -5.85324549e+00  -5.70480696e+00  -5.40792990e+00\n",
      "  -4.81417577e+00  -3.62666753e+00  -1.25165105e+00   3.49838191e+00\n",
      "   1.29984478e+01   3.19985797e+01   6.99988434e+01   1.45999371e+02\n",
      "   2.98000426e+02   6.02002536e+02   1.21000676e+03   2.42601519e+03]\n"
     ]
    },
    {
     "data": {
      "image/png": "[encoded data removed]",
      "text/plain": [
       "<matplotlib.figure.Figure at 0x10f78c7b8>"
      ]
     },
     "metadata": {},
     "output_type": "display_data"
    },
    {
     "data": {
      "text/plain": [
       "0.99956011129361877"
      ]
     },
     "execution_count": 6,
     "metadata": {},
     "output_type": "execute_result"
    }
   ],
   "source": [
    "filter_dict = {\n",
    "    'access_pattern': 'independent',\n",
    "    'complexity': 'complex',\n",
    "    'column': 'nocolumn',\n",
    "    'type': 'std::tuple<double, double, double, double>',\n",
    "    'orientation': 'soa',\n",
    "    'iterations': 1048576\n",
    "}\n",
    "selection = df_plot.filter_df(filter_dict, df)\n",
    "x, y = df_plot.xy(selection, 'container_size', 'timing', sortx=True)\n",
    "print('x: ' + str(x))\n",
    "print('y: ' + str(y))\n",
    "df_plot.linearity_test(x, y, show_output=True)"
   ]
  },
  {
   "cell_type": "markdown",
   "metadata": {},
   "source": [
    "### Testing for linearity through container size (all iterations)"
   ]
  },
  {
   "cell_type": "code",
   "execution_count": 8,
   "metadata": {
    "collapsed": false
   },
   "outputs": [],
   "source": [
    "# this takes > an hour\n",
    "# df_plot.linearity_test_all(unique, df, test_dimension='container_size')"
   ]
  },
  {
   "cell_type": "markdown",
   "metadata": {},
   "source": [
    "##### What this means...\n",
    "\n",
    "We've now verified that we can do further analysis considering only the highest container size data points. "
   ]
  },
  {
   "cell_type": "markdown",
   "metadata": {},
   "source": [
    "### Comparing SoA/AoS\n",
    "\n",
    "For this experiment, we'll use iterations per second as a sort of timing normalizer so we can better compare varying parameter configurations.\n"
   ]
  },
  {
   "cell_type": "code",
   "execution_count": 9,
   "metadata": {
    "collapsed": false
   },
   "outputs": [],
   "source": [
    "# need this to get the experiment's filter set\n",
    "must_haves = {\n",
    "    'container_size': 1048576,\n",
    "    'access_pattern': 'single',\n",
    "    'complexity': 'simple',\n",
    "    'column': 'nocolumn',\n",
    "    'type': 'std::tuple<double, double, double, double>'\n",
    "}\n",
    "let_vary = ['orientation', 'iterations']\n",
    "filter_dicts = df_plot.experiment_filter_dicts(unique, must_haves, let_vary)\n",
    "tst = df_plot.filter_df(filter_dicts[0], df)"
   ]
  }
 ],
 "metadata": {
  "kernelspec": {
   "display_name": "Python 3",
   "language": "python",
   "name": "python3"
  },
  "language_info": {
   "codemirror_mode": {
    "name": "ipython",
    "version": 3
   },
   "file_extension": ".py",
   "mimetype": "text/x-python",
   "name": "python",
   "nbconvert_exporter": "python",
   "pygments_lexer": "ipython3",
   "version": "3.6.2"
  }
 },
 "nbformat": 4,
 "nbformat_minor": 0
}
