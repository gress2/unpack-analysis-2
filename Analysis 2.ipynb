{
 "cells": [
  {
   "cell_type": "markdown",
   "metadata": {},
   "source": [
    "### Getting set up\n",
    "\n",
    "First, we must load the dataframe."
   ]
  },
  {
   "cell_type": "code",
   "execution_count": 1,
   "metadata": {
    "collapsed": false
   },
   "outputs": [],
   "source": [
    "%matplotlib inline\n",
    "import pandas as pd\n",
    "df = pd.read_pickle('unpack_benchmark.dataframe')"
   ]
  },
  {
   "cell_type": "markdown",
   "metadata": {},
   "source": [
    "We first seek to evaluate linearity (in the number of iterations). We can evaluate this for a given parameter configuration in the following way. First, we define a filtering dictionary used to constrain the dataframe."
   ]
  },
  {
   "cell_type": "code",
   "execution_count": 2,
   "metadata": {
    "collapsed": true
   },
   "outputs": [],
   "source": [
    "filter_dict = {\n",
    "    'access_pattern': 'independent',\n",
    "    'complexity': 'complex',\n",
    "    'column': 'nocolumn',\n",
    "    'type': 'std::tuple<double, double, double, double>',\n",
    "    'orientation': 'soa',\n",
    "    'container_size': 1048576\n",
    "}"
   ]
  },
  {
   "cell_type": "markdown",
   "metadata": {},
   "source": [
    "Before we actually filter the dataset, we can take a look at the type of data which will be returned."
   ]
  },
  {
   "cell_type": "code",
   "execution_count": null,
   "metadata": {
    "collapsed": false
   },
   "outputs": [
    {
     "name": "stdout",
     "output_type": "stream",
     "text": [
      "Querying with this filter will yield data with these dimensions unspecified:\n",
      "\n",
      "{ 'benchmarking_tool': array(['chrono_benchmark'], dtype=object),\n",
      "  'compiler': array(['g++-7.1'], dtype=object),\n",
      "  'container': array(['vector'], dtype=object),\n",
      "  'iterations': array([  32768,      32,       1, 1048576,    1024]),\n",
      "  'optimization': array(['O3'], dtype=object),\n",
      "  'run_id': array(['1'], dtype=object),\n",
      "  'system_memory': array(['64GB'], dtype=object),\n",
      "  'system_os': array(['Red Hat Enterprise Linux Server 6.9 (Santiago)'], dtype=object),\n",
      "  'system_processor': array(['Intel(R) Xeon(R) CPU E5-2680 @ 2.70GHz'], dtype=object)}\n"
     ]
    }
   ],
   "source": [
    "import df_plot as D\n",
    "import pprint\n",
    "pp = pprint.PrettyPrinter(indent=2)\n",
    "unique = D.unique_set(df)\n",
    "pp.pprint(D.get_selection_type(unique, filter_dict))"
   ]
  },
  {
   "cell_type": "markdown",
   "metadata": {},
   "source": [
    "### Testing for linearity through iterations (single case)\n",
    "\n",
    "We can see in this case the only dimension with size of more than 1 is iterations. This is exctly what we want for assessing linearity (or lack thereof) through this dimension. Let's go ahead and filter our dataframe and determine a best fit line for the data."
   ]
  },
  {
   "cell_type": "code",
   "execution_count": null,
   "metadata": {
    "collapsed": false
   },
   "outputs": [
    {
     "name": "stdout",
     "output_type": "stream",
     "text": [
      "x: [1, 32, 1024, 32768]\n",
      "y: [0.09778025, 2.4766686, 73.359947, 2497.6101]\n",
      "R2 score: 0.99999670\n",
      "An R2 of 1 is a perfect fit. Range: (-infty, 1]\n",
      "[ -1.44992140e+00   9.14280422e-01   7.65687388e+01   2.49751141e+03]\n"
     ]
    }
   ],
   "source": [
    "selection = D.filter_df(filter_dict, df)\n",
    "x, y = D.xy(selection, 'iterations', 'timing', sortx=True)\n",
    "print('x: ' + str(x))\n",
    "print('y: ' + str(y))\n",
    "D.linearity_test(x, y, show_output=True)"
   ]
  },
  {
   "cell_type": "markdown",
   "metadata": {},
   "source": [
    "This shows how linearity testing will work for each configuration. We'll now go through to verify that every configuration displays the same type of linearity.\n",
    "\n",
    "### Testing for linearity through iterations (all configurations)"
   ]
  },
  {
   "cell_type": "code",
   "execution_count": null,
   "metadata": {
    "collapsed": false
   },
   "outputs": [],
   "source": [
    "# this takes > an hour\n",
    "# df_plot.linearity_test_all(unique, df, test_dimension='iterations') "
   ]
  },
  {
   "cell_type": "markdown",
   "metadata": {},
   "source": [
    "##### What this means...\n",
    "\n",
    "Because all of these parameter configurations are showing an essentially perfect linear fit, we can proceed with analysis using only the highest iteration data points. These high iteration configurations will have the least noise and we won't lose any information from the lower iteration configurations.\n",
    "\n",
    "### Testing for linearity through container size (single configuration)\n",
    "\n",
    "Now that we've established we can look at solely the highest iteration data points, let's take a look at container size and verify we see the same type of linearity there.\n"
   ]
  },
  {
   "cell_type": "code",
   "execution_count": null,
   "metadata": {
    "collapsed": false
   },
   "outputs": [],
   "source": [
    "filter_dict = {\n",
    "    'access_pattern': 'independent',\n",
    "    'complexity': 'complex',\n",
    "    'column': 'nocolumn',\n",
    "    'type': 'std::tuple<double, double, double, double>',\n",
    "    'orientation': 'soa',\n",
    "    'iterations': 1048576\n",
    "}\n",
    "selection = D.filter_df(filter_dict, df)\n",
    "x, y = D.xy(selection, 'container_size', 'timing', sortx=True)\n",
    "print('x: ' + str(x))\n",
    "print('y: ' + str(y))\n",
    "D.linearity_test(x, y, show_output=True)"
   ]
  },
  {
   "cell_type": "markdown",
   "metadata": {},
   "source": [
    "### Testing for linearity through container size (all iterations)"
   ]
  },
  {
   "cell_type": "code",
   "execution_count": null,
   "metadata": {
    "collapsed": false
   },
   "outputs": [],
   "source": [
    "# this takes > an hour\n",
    "# df_plot.linearity_test_all(unique, df, test_dimension='container_size')"
   ]
  },
  {
   "cell_type": "markdown",
   "metadata": {},
   "source": [
    "##### What this means...\n",
    "\n",
    "We've now verified that we can do further analysis considering only the highest container size data points. "
   ]
  },
  {
   "cell_type": "markdown",
   "metadata": {},
   "source": [
    "### Comparing SoA/AoS\n",
    "\n",
    "For this experiment, we'll use iterations per second as a sort of timing normalizer so we can better compare varying parameter configurations.\n",
    "\n",
    "#### How they're affected by tuple size"
   ]
  },
  {
   "cell_type": "code",
   "execution_count": null,
   "metadata": {
    "collapsed": false
   },
   "outputs": [],
   "source": [
    "# need this to get the experiment's filter set\n",
    "must_haves = {\n",
    "    'container_size': 1048576,\n",
    "    'access_pattern': 'single',\n",
    "    'complexity': 'simple',\n",
    "    'column': 'nocolumn',\n",
    "    'iterations': 32768\n",
    "}\n",
    "let_vary = ['orientation']\n",
    "filter_dicts = D.experiment_filter_dicts(unique, must_haves, let_vary)\n",
    "allowed_types = D.make_tuple_types('int', [1,2,4,8])\n",
    "filter_dicts = D.constrain_types(filter_dicts, allowed_types)\n",
    "selection = D.multi_filter_df(filter_dicts, df)\n",
    "selection = D.numeric_types(selection)\n",
    "multi_xy = D.multi_xy(selection, 'type', 'timing', 'orientation', sortx=True)\n",
    "print(multi_xy)\n",
    "D.multi_line_plot(multi_xy)"
   ]
  },
  {
   "cell_type": "markdown",
   "metadata": {
    "collapsed": true
   },
   "source": [
    "#### How they're affected by access pattern"
   ]
  },
  {
   "cell_type": "code",
   "execution_count": null,
   "metadata": {
    "collapsed": false
   },
   "outputs": [],
   "source": [
    "must_haves = {\n",
    "    'container_size': 1048576,\n",
    "    'complexity': 'simple',\n",
    "    'column': 'nocolumn',\n",
    "    'iterations': 32768,\n",
    "    'type': 'std::tuple<int, int, int, int>'\n",
    "}\n",
    "let_vary = ['orientation', 'access_pattern']\n",
    "filter_dicts = D.experiment_filter_dicts(unique, must_haves, let_vary)\n",
    "selection = D.multi_filter_df(filter_dicts, df)\n",
    "multi_xy = D.multi_xy(selection, 'access_pattern', 'timing', 'orientation', sortx=True)\n",
    "print(multi_xy)\n",
    "D.multi_bar(multi_xy)"
   ]
  },
  {
   "cell_type": "markdown",
   "metadata": {},
   "source": [
    "#### How they're affected by complexity"
   ]
  },
  {
   "cell_type": "code",
   "execution_count": null,
   "metadata": {
    "collapsed": false
   },
   "outputs": [],
   "source": [
    "must_haves = {\n",
    "    'access_pattern': 'single',\n",
    "    'container_size': 1048576,\n",
    "    'column': 'nocolumn',\n",
    "    'iterations': 32768,\n",
    "    'type': 'std::tuple<int, int, int, int>'\n",
    "}\n",
    "let_vary = ['orientation', 'complexity']\n",
    "filter_dicts = D.experiment_filter_dicts(unique, must_haves, let_vary)\n",
    "selection = D.multi_filter_df(filter_dicts, df)\n",
    "multi_xy = D.multi_xy(selection, 'complexity', 'timing', 'orientation', sortx=True)\n",
    "print(multi_xy)\n",
    "D.multi_bar(multi_xy)"
   ]
  },
  {
   "cell_type": "code",
   "execution_count": null,
   "metadata": {
    "collapsed": true
   },
   "outputs": [],
   "source": []
  }
 ],
 "metadata": {
  "kernelspec": {
   "display_name": "Python 3",
   "language": "python",
   "name": "python3"
  },
  "language_info": {
   "codemirror_mode": {
    "name": "ipython",
    "version": 3
   },
   "file_extension": ".py",
   "mimetype": "text/x-python",
   "name": "python",
   "nbconvert_exporter": "python",
   "pygments_lexer": "ipython3",
   "version": "3.6.2"
  }
 },
 "nbformat": 4,
 "nbformat_minor": 0
}
