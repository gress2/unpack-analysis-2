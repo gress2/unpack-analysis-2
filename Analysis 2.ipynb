{
 "cells": [
  {
   "cell_type": "markdown",
   "metadata": {},
   "source": [
    "### Questions to answer:\n",
    "1. What do the timing distributions look like?\n",
    "2. How does AoS compare to SoA?\n",
    "3. How does tuple size affect timing?\n",
    "4. How does complexity affect timing?\n",
    "5. How does access pattern affect timing?\n",
    "\n",
    "## 1. What do the timing distributions look like? Do we see linearity through container size and number of iterations?\n",
    "\n",
    "### Getting set up\n",
    "\n",
    "First, we must load the dataframe. Additionally, we import our dataframe plotting library, aliased here as 'D'."
   ]
  },
  {
   "cell_type": "code",
   "execution_count": 1,
   "metadata": {
    "collapsed": false
   },
   "outputs": [],
   "source": [
    "%matplotlib inline\n",
    "import pandas as pd\n",
    "df = pd.read_pickle('unpack_benchmark.dataframe')\n",
    "import df_plot as D"
   ]
  },
  {
   "cell_type": "markdown",
   "metadata": {},
   "source": [
    "First, we want to look at a timing distribution. To do this, we define a filter dictionary to constrain our dataframe:"
   ]
  },
  {
   "cell_type": "code",
   "execution_count": 2,
   "metadata": {
    "collapsed": true
   },
   "outputs": [],
   "source": [
    "filter_dict = {\n",
    "    'access_pattern': 'independent',\n",
    "    'complexity': 'complex',\n",
    "    'column': 'nocolumn',\n",
    "    'type': 'std::tuple<double, double, double, double>',\n",
    "    'orientation': 'soa',\n",
    "    'container_size': 32768,\n",
    "    'iterations': 32768\n",
    "}"
   ]
  },
  {
   "cell_type": "markdown",
   "metadata": {},
   "source": [
    "Before we actually filter the dataset, we can take a look at the type of data which will be returned."
   ]
  },
  {
   "cell_type": "code",
   "execution_count": 3,
   "metadata": {
    "collapsed": false
   },
   "outputs": [
    {
     "name": "stdout",
     "output_type": "stream",
     "text": [
      "Querying with this filter will yield data with these dimensions unspecified:\n",
      "\n",
      "{ 'benchmarking_tool': array(['chrono_benchmark'], dtype=object),\n",
      "  'compiler': array(['g++-7.1'], dtype=object),\n",
      "  'container': array(['vector'], dtype=object),\n",
      "  'optimization': array(['O3'], dtype=object),\n",
      "  'run_id': array(['1'], dtype=object),\n",
      "  'system_memory': array(['64GB'], dtype=object),\n",
      "  'system_os': array(['Red Hat Enterprise Linux Server 6.9 (Santiago)'], dtype=object),\n",
      "  'system_processor': array(['Intel(R) Xeon(R) CPU E5-2680 @ 2.70GHz'], dtype=object)}\n"
     ]
    }
   ],
   "source": [
    "import df_plot as D\n",
    "import pprint\n",
    "pp = pprint.PrettyPrinter(indent=2)\n",
    "unique = D.unique_set(df)\n",
    "pp.pprint(D.get_selection_type(unique, filter_dict))"
   ]
  },
  {
   "cell_type": "markdown",
   "metadata": {},
   "source": [
    "This looks ok. All of the free dimensions have array sizes of 1. This means we should get 1 dimensional timing data querying with this filter dict."
   ]
  },
  {
   "cell_type": "code",
   "execution_count": 4,
   "metadata": {
    "collapsed": false
   },
   "outputs": [
    {
     "data": {
      "image/png": "[encoded data removed]",
      "text/plain": [
       "<matplotlib.figure.Figure at 0x1048e1828>"
      ]
     },
     "metadata": {},
     "output_type": "display_data"
    }
   ],
   "source": [
    "selection = D.filter_df(filter_dict, df)\n",
    "D.histogram(selection, 'timing')"
   ]
  },
  {
   "cell_type": "markdown",
   "metadata": {},
   "source": [
    "### Testing for linearity through iterations (single case)"
   ]
  },
  {
   "cell_type": "code",
   "execution_count": 5,
   "metadata": {
    "collapsed": false
   },
   "outputs": [
    {
     "name": "stdout",
     "output_type": "stream",
     "text": [
      "x: [1, 32, 1024, 32768]\n",
      "y: [0.09778025, 2.4766686, 73.359947, 2497.6101]\n",
      "R2 score: 0.99999670\n",
      "An R2 of 1 is a perfect fit. Range: (-infty, 1]\n",
      "[ -1.44992140e+00   9.14280422e-01   7.65687388e+01   2.49751141e+03]\n"
     ]
    },
    {
     "data": {
      "image/png": "[encoded data removed]",
      "text/plain": [
       "<matplotlib.figure.Figure at 0x10eed6940>"
      ]
     },
     "metadata": {},
     "output_type": "display_data"
    },
    {
     "data": {
      "text/plain": [
       "0.99999669929374169"
      ]
     },
     "execution_count": 5,
     "metadata": {},
     "output_type": "execute_result"
    }
   ],
   "source": [
    "filter_dict = {\n",
    "    'access_pattern': 'independent',\n",
    "    'complexity': 'complex',\n",
    "    'column': 'nocolumn',\n",
    "    'type': 'std::tuple<double, double, double, double>',\n",
    "    'orientation': 'soa',\n",
    "    'container_size': 1048576\n",
    "}\n",
    "selection = D.filter_df(filter_dict, df)\n",
    "x, y = D.xy(selection, 'iterations', 'timing', sortx=True)\n",
    "print('x: ' + str(x))\n",
    "print('y: ' + str(y))\n",
    "D.linearity_test(x, y, show_output=True)"
   ]
  },
  {
   "cell_type": "markdown",
   "metadata": {},
   "source": [
    "This shows how linearity testing will work for each configuration. We'll now go through to verify that every configuration displays the same type of linearity.\n",
    "\n",
    "### Testing for linearity through iterations (all configurations)"
   ]
  },
  {
   "cell_type": "code",
   "execution_count": 6,
   "metadata": {
    "collapsed": false
   },
   "outputs": [],
   "source": [
    "# this takes > an hour\n",
    "# df_plot.linearity_test_all(unique, df, test_dimension='iterations') "
   ]
  },
  {
   "cell_type": "markdown",
   "metadata": {},
   "source": [
    "##### What this means...\n",
    "\n",
    "Because all of these parameter configurations are showing an essentially perfect linear fit, we can proceed with analysis using only the highest iteration data points. These high iteration configurations will have the least noise and we won't lose any information from the lower iteration configurations.\n",
    "\n",
    "### Testing for linearity through container size (single configuration)\n",
    "\n",
    "Now that we've established we can look at solely the highest iteration data points, let's take a look at container size and verify we see the same type of linearity there.\n"
   ]
  },
  {
   "cell_type": "code",
   "execution_count": 7,
   "metadata": {
    "collapsed": false
   },
   "outputs": [
    {
     "name": "stdout",
     "output_type": "stream",
     "text": [
      "x: [1, 2, 4, 8, 16, 32, 64, 128, 256, 512, 1024, 2048, 4096, 8192, 16384, 32768]\n",
      "y: [0.07234747, 0.14149547, 0.27709749, 0.56644583, 1.1007181, 2.1939662, 4.4165416, 8.7795639, 17.571589, 35.182793, 70.267639, 141.51245, 283.14798, 569.94684, 1183.4451, 2449.3101]\n",
      "R2 score: 0.99956011\n",
      "An R2 of 1 is a perfect fit. Range: (-infty, 1]\n",
      "[ -5.92746475e+00  -5.85324549e+00  -5.70480696e+00  -5.40792990e+00\n",
      "  -4.81417577e+00  -3.62666753e+00  -1.25165105e+00   3.49838191e+00\n",
      "   1.29984478e+01   3.19985797e+01   6.99988434e+01   1.45999371e+02\n",
      "   2.98000426e+02   6.02002536e+02   1.21000676e+03   2.42601519e+03]\n"
     ]
    },
    {
     "data": {
      "image/png": "[encoded data removed]",
      "text/plain": [
       "<matplotlib.figure.Figure at 0x11addb3c8>"
      ]
     },
     "metadata": {},
     "output_type": "display_data"
    },
    {
     "data": {
      "text/plain": [
       "0.99956011129361877"
      ]
     },
     "execution_count": 7,
     "metadata": {},
     "output_type": "execute_result"
    }
   ],
   "source": [
    "filter_dict = {\n",
    "    'access_pattern': 'independent',\n",
    "    'complexity': 'complex',\n",
    "    'column': 'nocolumn',\n",
    "    'type': 'std::tuple<double, double, double, double>',\n",
    "    'orientation': 'soa',\n",
    "    'iterations': 1048576\n",
    "}\n",
    "selection = D.filter_df(filter_dict, df)\n",
    "x, y = D.xy(selection, 'container_size', 'timing', sortx=True)\n",
    "print('x: ' + str(x))\n",
    "print('y: ' + str(y))\n",
    "D.linearity_test(x, y, show_output=True)"
   ]
  },
  {
   "cell_type": "markdown",
   "metadata": {},
   "source": [
    "### Testing for linearity through container size (all iterations)"
   ]
  },
  {
   "cell_type": "code",
   "execution_count": 8,
   "metadata": {
    "collapsed": false
   },
   "outputs": [],
   "source": [
    "# this takes > an hour\n",
    "# df_plot.linearity_test_all(unique, df, test_dimension='container_size')"
   ]
  },
  {
   "cell_type": "markdown",
   "metadata": {},
   "source": [
    "##### What this means...\n",
    "\n",
    "We've now verified that we can do further analysis considering only the highest container size data points. "
   ]
  },
  {
   "cell_type": "markdown",
   "metadata": {},
   "source": [
    "## 2. How does AoS compare to SoA?\n",
    "\n",
    "For this experiment, we'll use iterations per second as a sort of timing normalizer so we can better compare varying parameter configurations.\n",
    "\n",
    "#### How they're affected by tuple size"
   ]
  },
  {
   "cell_type": "code",
   "execution_count": 9,
   "metadata": {
    "collapsed": false
   },
   "outputs": [
    {
     "name": "stdout",
     "output_type": "stream",
     "text": [
      "{'soa': {'x': [1, 2, 4, 8], 'y': [52.765556, 88.750084, 67.265747, 68.709785]}, 'aos': {'x': [1, 2, 4, 8], 'y': [53.96986, 82.907639, 319.79721, 142.1256]}}\n"
     ]
    },
    {
     "data": {
      "image/png": "[encoded data removed]",
      "text/plain": [
       "<matplotlib.figure.Figure at 0x11ae82cf8>"
      ]
     },
     "metadata": {},
     "output_type": "display_data"
    }
   ],
   "source": [
    "# need this to get the experiment's filter set\n",
    "must_haves = {\n",
    "    'container_size': 1048576,\n",
    "    'access_pattern': 'single',\n",
    "    'complexity': 'simple',\n",
    "    'column': 'nocolumn',\n",
    "    'iterations': 32768\n",
    "}\n",
    "let_vary = ['orientation']\n",
    "filter_dicts = D.experiment_filter_dicts(unique, must_haves, let_vary)\n",
    "allowed_types = D.make_tuple_types(['int'], [1,2,4,8])\n",
    "filter_dicts = D.constrain_types(filter_dicts, allowed_types)\n",
    "selection = D.multi_filter_df(filter_dicts, df)\n",
    "selection = D.numeric_types(selection)\n",
    "multi_xy = D.multi_xy(selection, 'type', 'timing', 'orientation', sortx=True)\n",
    "print(multi_xy)\n",
    "D.multi_line_plot(multi_xy)"
   ]
  },
  {
   "cell_type": "markdown",
   "metadata": {
    "collapsed": true
   },
   "source": [
    "#### How they're affected by access pattern"
   ]
  },
  {
   "cell_type": "code",
   "execution_count": 10,
   "metadata": {
    "collapsed": false
   },
   "outputs": [
    {
     "name": "stdout",
     "output_type": "stream",
     "text": [
      "{'soa': {'x': ['combined', 'independent', 'single'], 'y': [843.90063, 866.22931, 67.265747]}, 'aos': {'x': ['combined', 'independent', 'single'], 'y': [427.30569, 443.70343, 319.79721]}}\n"
     ]
    },
    {
     "data": {
      "image/png": "[encoded data removed]",
      "text/plain": [
       "<matplotlib.figure.Figure at 0x10eec7860>"
      ]
     },
     "metadata": {},
     "output_type": "display_data"
    }
   ],
   "source": [
    "must_haves = {\n",
    "    'container_size': 1048576,\n",
    "    'complexity': 'simple',\n",
    "    'column': 'nocolumn',\n",
    "    'iterations': 32768,\n",
    "    'type': 'std::tuple<int, int, int, int>'\n",
    "}\n",
    "let_vary = ['orientation', 'access_pattern']\n",
    "filter_dicts = D.experiment_filter_dicts(unique, must_haves, let_vary)\n",
    "selection = D.multi_filter_df(filter_dicts, df)\n",
    "multi_xy = D.multi_xy(selection, 'access_pattern', 'timing', 'orientation', sortx=True)\n",
    "print(multi_xy)\n",
    "D.multi_bar(multi_xy)"
   ]
  },
  {
   "cell_type": "markdown",
   "metadata": {},
   "source": [
    "#### How they're affected by complexity"
   ]
  },
  {
   "cell_type": "code",
   "execution_count": 11,
   "metadata": {
    "collapsed": false
   },
   "outputs": [
    {
     "name": "stdout",
     "output_type": "stream",
     "text": [
      "[{'system_os': 'Red Hat Enterprise Linux Server 6.9 (Santiago)', 'system_processor': 'Intel(R) Xeon(R) CPU E5-2680 @ 2.70GHz', 'system_memory': '64GB', 'compiler': 'g++-7.1', 'optimization': 'O3', 'benchmarking_tool': 'chrono_benchmark', 'container': 'vector', 'type': 'std::tuple<int, int, int, int>', 'access_pattern': 'single', 'column': 'nocolumn', 'container_size': 1048576, 'iterations': 32768}]\n",
      "{'soa': {'x': ['complex', 'simple'], 'y': [154.94151, 67.265747]}, 'aos': {'x': ['complex', 'simple'], 'y': [258.75592, 319.79721]}}\n"
     ]
    },
    {
     "data": {
      "image/png": "[encoded data removed]",
      "text/plain": [
       "<matplotlib.figure.Figure at 0x1270ceba8>"
      ]
     },
     "metadata": {},
     "output_type": "display_data"
    }
   ],
   "source": [
    "must_haves = {\n",
    "    'access_pattern': 'single',\n",
    "    'container_size': 1048576,\n",
    "    'column': 'nocolumn',\n",
    "    'iterations': 32768,\n",
    "    'type': 'std::tuple<int, int, int, int>'\n",
    "}\n",
    "let_vary = ['orientation', 'complexity']\n",
    "filter_dicts = D.experiment_filter_dicts(unique, must_haves, let_vary)\n",
    "print(filter_dicts)\n",
    "selection = D.multi_filter_df(filter_dicts, df)\n",
    "multi_xy = D.multi_xy(selection, 'complexity', 'timing', 'orientation', sortx=True)\n",
    "print(multi_xy)\n",
    "D.multi_bar(multi_xy)"
   ]
  },
  {
   "cell_type": "markdown",
   "metadata": {},
   "source": [
    "### 3. How does tuple size affect timing?\n",
    "\n",
    "Here we can see what I think are effects from cache line sizes"
   ]
  },
  {
   "cell_type": "code",
   "execution_count": 15,
   "metadata": {
    "collapsed": false
   },
   "outputs": [
    {
     "name": "stdout",
     "output_type": "stream",
     "text": [
      "{'int': {'x': [1, 2, 4, 8], 'y': [52.765556, 88.750084, 67.265747, 68.709785]}, 'char': {'x': [1, 4], 'y': [49.271606, 75.392082]}, 'double': {'x': [1, 2, 4, 8], 'y': [71.850609, 51.37072, 78.19384, 44.674389]}}\n"
     ]
    },
    {
     "data": {
      "image/png": "[encoded data removed]",
      "text/plain": [
       "<matplotlib.figure.Figure at 0x1272cde48>"
      ]
     },
     "metadata": {},
     "output_type": "display_data"
    }
   ],
   "source": [
    "must_haves = {\n",
    "    'container_size': 1048576,\n",
    "    'access_pattern': 'single',\n",
    "    'complexity': 'simple',\n",
    "    'column': 'nocolumn',\n",
    "    'iterations': 32768,\n",
    "    'orientation': 'soa'\n",
    "}\n",
    "let_vary = []\n",
    "filter_dicts = D.experiment_filter_dicts(unique, must_haves, let_vary)\n",
    "allowed_types = D.make_tuple_types(['char', 'int', 'double'], [1,2,4,8])\n",
    "filter_dicts = D.constrain_types(filter_dicts, allowed_types)\n",
    "selection = D.multi_filter_df(filter_dicts, df)\n",
    "selection = D.numeric_types(selection, add_type_bases=True)\n",
    "multi_xy = D.multi_xy(selection, 'type', 'timing', 'type_base', sortx=True)\n",
    "print(multi_xy)\n",
    "D.multi_line_plot(multi_xy)"
   ]
  },
  {
   "cell_type": "code",
   "execution_count": null,
   "metadata": {
    "collapsed": true
   },
   "outputs": [],
   "source": []
  }
 ],
 "metadata": {
  "kernelspec": {
   "display_name": "Python 3",
   "language": "python",
   "name": "python3"
  },
  "language_info": {
   "codemirror_mode": {
    "name": "ipython",
    "version": 3
   },
   "file_extension": ".py",
   "mimetype": "text/x-python",
   "name": "python",
   "nbconvert_exporter": "python",
   "pygments_lexer": "ipython3",
   "version": "3.6.2"
  }
 },
 "nbformat": 4,
 "nbformat_minor": 0
}
